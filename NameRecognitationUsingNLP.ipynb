{
  "nbformat": 4,
  "nbformat_minor": 0,
  "metadata": {
    "colab": {
      "provenance": [],
      "authorship_tag": "ABX9TyPZCstPkLtxyVK2cxGM/rA3",
      "include_colab_link": true
    },
    "kernelspec": {
      "name": "python3",
      "display_name": "Python 3"
    },
    "language_info": {
      "name": "python"
    }
  },
  "cells": [
    {
      "cell_type": "markdown",
      "metadata": {
        "id": "view-in-github",
        "colab_type": "text"
      },
      "source": [
        "<a href=\"https://colab.research.google.com/github/tejas-130704/C-Programming-/blob/main/NameRecognitationUsingNLP.ipynb\" target=\"_parent\"><img src=\"https://colab.research.google.com/assets/colab-badge.svg\" alt=\"Open In Colab\"/></a>"
      ]
    },
    {
      "cell_type": "code",
      "execution_count": 11,
      "metadata": {
        "colab": {
          "base_uri": "https://localhost:8080/"
        },
        "id": "Q23EFC5UOOMf",
        "outputId": "b6a36196-83b4-4156-e5dc-fce1d0ce0a4f"
      },
      "outputs": [
        {
          "output_type": "stream",
          "name": "stderr",
          "text": [
            "[nltk_data] Downloading package punkt to /root/nltk_data...\n",
            "[nltk_data]   Package punkt is already up-to-date!\n",
            "[nltk_data] Downloading package wordnet to /root/nltk_data...\n"
          ]
        },
        {
          "output_type": "execute_result",
          "data": {
            "text/plain": [
              "True"
            ]
          },
          "metadata": {},
          "execution_count": 11
        }
      ],
      "source": [
        "import nltk\n",
        "from nltk.stem import WordNetLemmatizer\n",
        "nltk.download('punkt')\n",
        "nltk.download('wordnet')\n"
      ]
    },
    {
      "cell_type": "code",
      "source": [
        "corpus='''\n",
        "In the quiet village of Willowbrook, three friends—Alice, Ben, and Clara—decided to embark on an adventure. Alice, with her curiosity as boundless as the sky, suggested they explore the mysterious Whispering Woods. Ben, always the skeptic, hesitated but agreed to join, and Clara, ever the peacemaker, was enthusiastic about the idea.\n",
        "\n",
        "As they ventured into the woods, they encountered a peculiar sight: a talking squirrel named Oliver. Oliver, with his bushy tail and bright eyes, explained that the woods were enchanted and that a hidden treasure awaited those who could solve the riddle of the ancient oak.\n",
        "\n",
        "Eager to unravel the mystery, Alice, Ben, and Clara followed Oliver deeper into the woods. They came across a clearing where a grand oak tree stood, its branches stretching wide like welcoming arms. Beneath the tree was a stone tablet inscribed with a riddle.\n",
        "\n",
        "Clara read the riddle aloud, and after much pondering, it was Ben who solved it, revealing a hidden compartment in the tree trunk. Inside, they found a chest filled with shimmering gems and a note from the forest's guardian, Evelyn. The note explained that the true treasure was the journey and the friendship they strengthened along the way.\n",
        "\n",
        "With hearts full and spirits high, Alice, Ben, and Clara thanked Oliver and made their way back to Willowbrook, their adventure becoming the stuff of legend in their village.\n",
        "'''\n",
        "corpus"
      ],
      "metadata": {
        "colab": {
          "base_uri": "https://localhost:8080/",
          "height": 122
        },
        "id": "EqD4gh_kPu0B",
        "outputId": "b55c6b6e-f6a5-4ac9-9f2c-1ab4d63e4631"
      },
      "execution_count": 1,
      "outputs": [
        {
          "output_type": "execute_result",
          "data": {
            "text/plain": [
              "\"\\nIn the quiet village of Willowbrook, three friends—Alice, Ben, and Clara—decided to embark on an adventure. Alice, with her curiosity as boundless as the sky, suggested they explore the mysterious Whispering Woods. Ben, always the skeptic, hesitated but agreed to join, and Clara, ever the peacemaker, was enthusiastic about the idea.\\n\\nAs they ventured into the woods, they encountered a peculiar sight: a talking squirrel named Oliver. Oliver, with his bushy tail and bright eyes, explained that the woods were enchanted and that a hidden treasure awaited those who could solve the riddle of the ancient oak.\\n\\nEager to unravel the mystery, Alice, Ben, and Clara followed Oliver deeper into the woods. They came across a clearing where a grand oak tree stood, its branches stretching wide like welcoming arms. Beneath the tree was a stone tablet inscribed with a riddle.\\n\\nClara read the riddle aloud, and after much pondering, it was Ben who solved it, revealing a hidden compartment in the tree trunk. Inside, they found a chest filled with shimmering gems and a note from the forest's guardian, Evelyn. The note explained that the true treasure was the journey and the friendship they strengthened along the way.\\n\\nWith hearts full and spirits high, Alice, Ben, and Clara thanked Oliver and made their way back to Willowbrook, their adventure becoming the stuff of legend in their village.\\n\""
            ],
            "application/vnd.google.colaboratory.intrinsic+json": {
              "type": "string"
            }
          },
          "metadata": {},
          "execution_count": 1
        }
      ]
    },
    {
      "cell_type": "code",
      "source": [
        "from nltk.corpus import stopwords\n",
        "nltk.download('stopwords')\n",
        "def clean(text):\n",
        "  text=nltk.word_tokenize(text)\n",
        "  text=[WordNetLemmatizer().lemmatize(word,pos='v') for word in text if word not in set(stopwords.words('english'))]\n",
        "  return text\n"
      ],
      "metadata": {
        "colab": {
          "base_uri": "https://localhost:8080/"
        },
        "id": "IF46vyfTQICX",
        "outputId": "fa96c097-c39f-4dd8-affe-386336556127"
      },
      "execution_count": 45,
      "outputs": [
        {
          "output_type": "stream",
          "name": "stderr",
          "text": [
            "[nltk_data] Downloading package stopwords to /root/nltk_data...\n",
            "[nltk_data]   Package stopwords is already up-to-date!\n"
          ]
        }
      ]
    },
    {
      "cell_type": "code",
      "source": [
        "sent=nltk.sent_tokenize(corpus)\n",
        "sent\n",
        "\n",
        "for i in range(len(sent)):\n",
        "  sent[i]=clean(sent[i])\n",
        "sent[0]\n",
        "\n",
        "\n"
      ],
      "metadata": {
        "colab": {
          "base_uri": "https://localhost:8080/"
        },
        "id": "_1fY58_yQtpf",
        "outputId": "4d01b9d3-289b-4058-b302-7ffc82118966"
      },
      "execution_count": 46,
      "outputs": [
        {
          "output_type": "execute_result",
          "data": {
            "text/plain": [
              "['In',\n",
              " 'quiet',\n",
              " 'village',\n",
              " 'Willowbrook',\n",
              " ',',\n",
              " 'three',\n",
              " 'friends—Alice',\n",
              " ',',\n",
              " 'Ben',\n",
              " ',',\n",
              " 'Clara—decided',\n",
              " 'embark',\n",
              " 'adventure',\n",
              " '.']"
            ]
          },
          "metadata": {},
          "execution_count": 46
        }
      ]
    },
    {
      "cell_type": "code",
      "source": [
        "#ProperNoun Detections\n",
        "nltk.download('averaged_perceptron_tagger')\n",
        "post_tag=nltk.pos_tag(sent[0])\n",
        "post_tag[0][1]"
      ],
      "metadata": {
        "colab": {
          "base_uri": "https://localhost:8080/",
          "height": 105
        },
        "id": "HaawciLaRzdX",
        "outputId": "df8b8673-3ead-4a16-e6b2-88fbedfece46"
      },
      "execution_count": 47,
      "outputs": [
        {
          "output_type": "stream",
          "name": "stderr",
          "text": [
            "[nltk_data] Downloading package averaged_perceptron_tagger to\n",
            "[nltk_data]     /root/nltk_data...\n",
            "[nltk_data]   Package averaged_perceptron_tagger is already up-to-\n",
            "[nltk_data]       date!\n"
          ]
        },
        {
          "output_type": "execute_result",
          "data": {
            "text/plain": [
              "'IN'"
            ],
            "application/vnd.google.colaboratory.intrinsic+json": {
              "type": "string"
            }
          },
          "metadata": {},
          "execution_count": 47
        }
      ]
    },
    {
      "cell_type": "code",
      "source": [
        "post=[]\n",
        "new_post=[]\n",
        "for i in range(len(sent)):\n",
        "  post.append(nltk.pos_tag(sent[i]))\n",
        "  for j in range(len(post[i])):\n",
        "    if post[i][j][1]=='NNP' and post[i][j][0] not in new_post:\n",
        "      new_post.append(post[i][j][0])\n",
        "new_post\n"
      ],
      "metadata": {
        "colab": {
          "base_uri": "https://localhost:8080/"
        },
        "id": "3mN-6OeLSYX5",
        "outputId": "bf49bbe5-a47f-4e82-ed50-fd3192fb04c2"
      },
      "execution_count": 48,
      "outputs": [
        {
          "output_type": "execute_result",
          "data": {
            "text/plain": [
              "['Willowbrook',\n",
              " 'Ben',\n",
              " 'Clara—decided',\n",
              " 'Alice',\n",
              " 'Clara',\n",
              " 'Oliver',\n",
              " 'Eager',\n",
              " 'Beneath',\n",
              " 'Inside',\n",
              " 'Evelyn']"
            ]
          },
          "metadata": {},
          "execution_count": 48
        }
      ]
    }
  ]
}